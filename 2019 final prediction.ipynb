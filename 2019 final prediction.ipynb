{
 "cells": [
  {
   "cell_type": "markdown",
   "metadata": {},
   "source": [
    "## March Madness Logistic Regression"
   ]
  },
  {
   "cell_type": "code",
   "execution_count": 1,
   "metadata": {},
   "outputs": [],
   "source": [
    "%matplotlib inline\n",
    "import matplotlib.pyplot as plt\n",
    "plt.style.use('ggplot') \n",
    "\n",
    "import numpy as np\n",
    "import pandas as pd\n",
    "from sklearn.model_selection import train_test_split\n",
    "from sklearn.externals import joblib\n",
    "from sklearn.linear_model import LogisticRegression\n",
    "from sklearn.metrics import (auc, classification_report, roc_auc_score, accuracy_score,\n",
    "                             f1_score, log_loss, roc_curve, confusion_matrix, precision_score, recall_score)\n",
    "from sklearn.preprocessing import StandardScaler\n",
    "from sklearn.ensemble import BaggingClassifier\n",
    "from sklearn.ensemble import GradientBoostingClassifier\n",
    "from math import sin, cos, sqrt, atan2, radians\n",
    "import random\n",
    "import statsmodels.api as sm\n",
    "import statsmodels\n",
    "import warnings\n",
    "warnings.filterwarnings('ignore')"
   ]
  },
  {
   "cell_type": "code",
   "execution_count": 2,
   "metadata": {},
   "outputs": [],
   "source": [
    "def distance(lat1, lon1, lat2, lon2):\n",
    "\n",
    "    # approximate radius of earth in km\n",
    "    R = 6373.0\n",
    "\n",
    "    lat1 = radians(lat1)\n",
    "    lon1 = radians(lon1)\n",
    "    lat2 = radians(lat2)\n",
    "    lon2 = radians(lon2)\n",
    "\n",
    "    dlon = lon2 - lon1\n",
    "    dlat = lat2 - lat1\n",
    "\n",
    "    a = sin(dlat / 2)**2 + cos(lat1) * cos(lat2) * sin(dlon / 2)**2\n",
    "    c = 2 * atan2(sqrt(a), sqrt(1 - a))\n",
    "\n",
    "    distance = R * c\n",
    "    \n",
    "    return distance"
   ]
  },
  {
   "cell_type": "code",
   "execution_count": 3,
   "metadata": {
    "scrolled": true
   },
   "outputs": [],
   "source": [
    "mm_data = pd.read_csv('NCAA_Tourney_2002_2018.csv')"
   ]
  },
  {
   "cell_type": "code",
   "execution_count": 4,
   "metadata": {},
   "outputs": [],
   "source": [
    "mm_2019 = pd.read_csv('NCAA_Tourney_2019.csv')"
   ]
  },
  {
   "cell_type": "code",
   "execution_count": 5,
   "metadata": {
    "scrolled": true
   },
   "outputs": [
    {
     "data": {
      "text/plain": [
       "Index(['team1_id', 'team1_score', 'team2_id', 'team2_score', 'result', 'WLoc',\n",
       "       'num_ot', 'team1_position', 'team2_position', 'team1_seed',\n",
       "       ...\n",
       "       'diff_arate', 'diff_opparate', 'diff_stlrate', 'diff_oppstlrate',\n",
       "       'diff_tempo', 'diff_adjtempo', 'diff_oe', 'diff_adjoe', 'diff_de',\n",
       "       'diff_adjde'],\n",
       "      dtype='object', length=139)"
      ]
     },
     "execution_count": 5,
     "metadata": {},
     "output_type": "execute_result"
    }
   ],
   "source": [
    "mm_data.columns"
   ]
  },
  {
   "cell_type": "code",
   "execution_count": 6,
   "metadata": {
    "scrolled": true
   },
   "outputs": [],
   "source": [
    "mm_data['dist1'] = mm_data.apply(lambda row: distance(row['host_lat'], row['host_long'], row['team1_lat'], row['team1_long']), axis=1)\n",
    "mm_data['dist2'] = mm_data.apply(lambda row: distance(row['host_lat'], row['host_long'], row['team2_lat'], row['team2_long']), axis=1)\n",
    "mm_2019['dist1'] = mm_2019.apply(lambda row: distance(row['host_lat'], row['host_long'], row['team1_lat'], row['team1_long']), axis=1)\n",
    "mm_2019['dist2'] = mm_2019.apply(lambda row: distance(row['host_lat'], row['host_long'], row['team2_lat'], row['team2_long']), axis=1)"
   ]
  },
  {
   "cell_type": "code",
   "execution_count": 7,
   "metadata": {},
   "outputs": [],
   "source": [
    "mm_data['diff_dist'] = mm_data['dist1'] - mm_data['dist2']\n",
    "mm_2019['diff_dist'] = mm_2019['dist1'] - mm_2019['dist2']"
   ]
  },
  {
   "cell_type": "markdown",
   "metadata": {},
   "source": [
    "## Pythag College Basketball\n",
    "E(W%) = points scored^11.5 / (points scored^11.5+points allowed^11.5)"
   ]
  },
  {
   "cell_type": "code",
   "execution_count": 8,
   "metadata": {},
   "outputs": [],
   "source": [
    "mm_data['exp_win1'] = (mm_data['team1_adjoe']**11.5)/ ((mm_data['team1_adjde']**11.5)+(mm_data['team1_adjoe']**11.5))\n",
    "mm_data['exp_win2'] = (mm_data['team2_adjoe']**11.5)/ ((mm_data['team2_adjde']**11.5)+(mm_data['team2_adjoe']**11.5))"
   ]
  },
  {
   "cell_type": "code",
   "execution_count": 9,
   "metadata": {},
   "outputs": [],
   "source": [
    "mm_2019['exp_win1'] = (mm_2019['team1_adjoe']**11.5)/ ((mm_2019['team1_adjde']**11.5)+(mm_2019['team1_adjoe']**11.5))\n",
    "mm_2019['exp_win2'] = (mm_2019['team2_adjoe']**11.5)/ ((mm_2019['team2_adjde']**11.5)+(mm_2019['team2_adjoe']**11.5))"
   ]
  },
  {
   "cell_type": "markdown",
   "metadata": {},
   "source": [
    "## Log 5\n",
    "P(W) = (A - A * B) / (A + B - 2*A*B)"
   ]
  },
  {
   "cell_type": "code",
   "execution_count": 10,
   "metadata": {},
   "outputs": [],
   "source": [
    "mm_data['team1_log5'] = (mm_data['exp_win1'] - (mm_data['exp_win1']*mm_data['exp_win2']))/ (mm_data['exp_win1']+mm_data['exp_win2']-(2*mm_data['exp_win1']*mm_data['exp_win2']))"
   ]
  },
  {
   "cell_type": "code",
   "execution_count": 11,
   "metadata": {},
   "outputs": [],
   "source": [
    "mm_2019['team1_log5'] = (mm_2019['exp_win1'] - (mm_2019['exp_win1']*mm_2019['exp_win2']))/ (mm_2019['exp_win1']+mm_2019['exp_win2']-(2*mm_2019['exp_win1']*mm_2019['exp_win2']))"
   ]
  },
  {
   "cell_type": "code",
   "execution_count": 12,
   "metadata": {},
   "outputs": [
    {
     "data": {
      "text/html": [
       "<div>\n",
       "<style scoped>\n",
       "    .dataframe tbody tr th:only-of-type {\n",
       "        vertical-align: middle;\n",
       "    }\n",
       "\n",
       "    .dataframe tbody tr th {\n",
       "        vertical-align: top;\n",
       "    }\n",
       "\n",
       "    .dataframe thead th {\n",
       "        text-align: right;\n",
       "    }\n",
       "</style>\n",
       "<table border=\"1\" class=\"dataframe\">\n",
       "  <thead>\n",
       "    <tr style=\"text-align: right;\">\n",
       "      <th></th>\n",
       "      <th>team1_adjoe</th>\n",
       "      <th>team1_teamname</th>\n",
       "      <th>season</th>\n",
       "      <th>team2_teamname</th>\n",
       "      <th>team1_adjde</th>\n",
       "      <th>exp_win1</th>\n",
       "      <th>exp_win2</th>\n",
       "      <th>team1_log5</th>\n",
       "    </tr>\n",
       "  </thead>\n",
       "  <tbody>\n",
       "    <tr>\n",
       "      <th>0</th>\n",
       "      <td>98.6102</td>\n",
       "      <td>Siena</td>\n",
       "      <td>2002</td>\n",
       "      <td>Alcorn St</td>\n",
       "      <td>99.6885</td>\n",
       "      <td>0.468773</td>\n",
       "      <td>0.324280</td>\n",
       "      <td>0.647736</td>\n",
       "    </tr>\n",
       "    <tr>\n",
       "      <th>1</th>\n",
       "      <td>111.4954</td>\n",
       "      <td>Alabama</td>\n",
       "      <td>2002</td>\n",
       "      <td>FL Atlantic</td>\n",
       "      <td>93.8770</td>\n",
       "      <td>0.878465</td>\n",
       "      <td>0.411542</td>\n",
       "      <td>0.911780</td>\n",
       "    </tr>\n",
       "    <tr>\n",
       "      <th>2</th>\n",
       "      <td>117.3877</td>\n",
       "      <td>Arizona</td>\n",
       "      <td>2002</td>\n",
       "      <td>Santa Barbara</td>\n",
       "      <td>96.9262</td>\n",
       "      <td>0.900485</td>\n",
       "      <td>0.707177</td>\n",
       "      <td>0.789333</td>\n",
       "    </tr>\n",
       "    <tr>\n",
       "      <th>3</th>\n",
       "      <td>118.5999</td>\n",
       "      <td>Duke</td>\n",
       "      <td>2002</td>\n",
       "      <td>Winthrop</td>\n",
       "      <td>87.7504</td>\n",
       "      <td>0.969660</td>\n",
       "      <td>0.367453</td>\n",
       "      <td>0.982148</td>\n",
       "    </tr>\n",
       "    <tr>\n",
       "      <th>4</th>\n",
       "      <td>109.6136</td>\n",
       "      <td>Indiana</td>\n",
       "      <td>2002</td>\n",
       "      <td>Utah</td>\n",
       "      <td>89.9224</td>\n",
       "      <td>0.906968</td>\n",
       "      <td>0.812015</td>\n",
       "      <td>0.692962</td>\n",
       "    </tr>\n",
       "  </tbody>\n",
       "</table>\n",
       "</div>"
      ],
      "text/plain": [
       "   team1_adjoe team1_teamname  season team2_teamname  team1_adjde  exp_win1  \\\n",
       "0      98.6102          Siena    2002      Alcorn St      99.6885  0.468773   \n",
       "1     111.4954        Alabama    2002    FL Atlantic      93.8770  0.878465   \n",
       "2     117.3877        Arizona    2002  Santa Barbara      96.9262  0.900485   \n",
       "3     118.5999           Duke    2002       Winthrop      87.7504  0.969660   \n",
       "4     109.6136        Indiana    2002           Utah      89.9224  0.906968   \n",
       "\n",
       "   exp_win2  team1_log5  \n",
       "0  0.324280    0.647736  \n",
       "1  0.411542    0.911780  \n",
       "2  0.707177    0.789333  \n",
       "3  0.367453    0.982148  \n",
       "4  0.812015    0.692962  "
      ]
     },
     "execution_count": 12,
     "metadata": {},
     "output_type": "execute_result"
    }
   ],
   "source": [
    "mm_data[['team1_adjoe','team1_teamname','season','team2_teamname','team1_adjde','exp_win1','exp_win2','team1_log5']].head()"
   ]
  },
  {
   "cell_type": "markdown",
   "metadata": {},
   "source": [
    "## Seed Diff"
   ]
  },
  {
   "cell_type": "code",
   "execution_count": 13,
   "metadata": {},
   "outputs": [],
   "source": [
    "mm_data['seed_diff'] = mm_data['team1_seed'] - mm_data['team2_seed']"
   ]
  },
  {
   "cell_type": "code",
   "execution_count": 14,
   "metadata": {},
   "outputs": [],
   "source": [
    "mm_2019['seed_diff'] = mm_2019['team1_seed'] - mm_2019['team2_seed']"
   ]
  },
  {
   "cell_type": "code",
   "execution_count": 15,
   "metadata": {},
   "outputs": [
    {
     "data": {
      "text/html": [
       "<div>\n",
       "<style scoped>\n",
       "    .dataframe tbody tr th:only-of-type {\n",
       "        vertical-align: middle;\n",
       "    }\n",
       "\n",
       "    .dataframe tbody tr th {\n",
       "        vertical-align: top;\n",
       "    }\n",
       "\n",
       "    .dataframe thead th {\n",
       "        text-align: right;\n",
       "    }\n",
       "</style>\n",
       "<table border=\"1\" class=\"dataframe\">\n",
       "  <thead>\n",
       "    <tr style=\"text-align: right;\">\n",
       "      <th></th>\n",
       "      <th>game_id</th>\n",
       "      <th>exp_win1</th>\n",
       "      <th>exp_win2</th>\n",
       "      <th>team2_score</th>\n",
       "      <th>team1_score</th>\n",
       "      <th>diff_dist</th>\n",
       "      <th>team1_log5</th>\n",
       "      <th>team1_id</th>\n",
       "      <th>team2_id</th>\n",
       "    </tr>\n",
       "  </thead>\n",
       "  <tbody>\n",
       "    <tr>\n",
       "      <th>0</th>\n",
       "      <td>2002-1373-1108</td>\n",
       "      <td>0.468773</td>\n",
       "      <td>0.324280</td>\n",
       "      <td>77</td>\n",
       "      <td>81</td>\n",
       "      <td>-144.611318</td>\n",
       "      <td>0.647736</td>\n",
       "      <td>1373</td>\n",
       "      <td>1108</td>\n",
       "    </tr>\n",
       "    <tr>\n",
       "      <th>1</th>\n",
       "      <td>2002-1104-1194</td>\n",
       "      <td>0.878465</td>\n",
       "      <td>0.411542</td>\n",
       "      <td>78</td>\n",
       "      <td>86</td>\n",
       "      <td>-88.820532</td>\n",
       "      <td>0.911780</td>\n",
       "      <td>1104</td>\n",
       "      <td>1194</td>\n",
       "    </tr>\n",
       "    <tr>\n",
       "      <th>2</th>\n",
       "      <td>2002-1112-1364</td>\n",
       "      <td>0.900485</td>\n",
       "      <td>0.707177</td>\n",
       "      <td>81</td>\n",
       "      <td>86</td>\n",
       "      <td>-697.542289</td>\n",
       "      <td>0.789333</td>\n",
       "      <td>1112</td>\n",
       "      <td>1364</td>\n",
       "    </tr>\n",
       "    <tr>\n",
       "      <th>3</th>\n",
       "      <td>2002-1181-1457</td>\n",
       "      <td>0.969660</td>\n",
       "      <td>0.367453</td>\n",
       "      <td>37</td>\n",
       "      <td>84</td>\n",
       "      <td>-191.666514</td>\n",
       "      <td>0.982148</td>\n",
       "      <td>1181</td>\n",
       "      <td>1457</td>\n",
       "    </tr>\n",
       "    <tr>\n",
       "      <th>4</th>\n",
       "      <td>2002-1231-1428</td>\n",
       "      <td>0.906968</td>\n",
       "      <td>0.812015</td>\n",
       "      <td>56</td>\n",
       "      <td>75</td>\n",
       "      <td>2148.977013</td>\n",
       "      <td>0.692962</td>\n",
       "      <td>1231</td>\n",
       "      <td>1428</td>\n",
       "    </tr>\n",
       "  </tbody>\n",
       "</table>\n",
       "</div>"
      ],
      "text/plain": [
       "          game_id  exp_win1  exp_win2  team2_score  team1_score    diff_dist  \\\n",
       "0  2002-1373-1108  0.468773  0.324280           77           81  -144.611318   \n",
       "1  2002-1104-1194  0.878465  0.411542           78           86   -88.820532   \n",
       "2  2002-1112-1364  0.900485  0.707177           81           86  -697.542289   \n",
       "3  2002-1181-1457  0.969660  0.367453           37           84  -191.666514   \n",
       "4  2002-1231-1428  0.906968  0.812015           56           75  2148.977013   \n",
       "\n",
       "   team1_log5  team1_id  team2_id  \n",
       "0    0.647736      1373      1108  \n",
       "1    0.911780      1104      1194  \n",
       "2    0.789333      1112      1364  \n",
       "3    0.982148      1181      1457  \n",
       "4    0.692962      1231      1428  "
      ]
     },
     "execution_count": 15,
     "metadata": {},
     "output_type": "execute_result"
    }
   ],
   "source": [
    "mm_data[['game_id','exp_win1','exp_win2','team2_score','team1_score','diff_dist','team1_log5','team1_id','team2_id']].head()"
   ]
  },
  {
   "cell_type": "code",
   "execution_count": 16,
   "metadata": {
    "scrolled": true
   },
   "outputs": [
    {
     "data": {
      "text/html": [
       "<div>\n",
       "<style scoped>\n",
       "    .dataframe tbody tr th:only-of-type {\n",
       "        vertical-align: middle;\n",
       "    }\n",
       "\n",
       "    .dataframe tbody tr th {\n",
       "        vertical-align: top;\n",
       "    }\n",
       "\n",
       "    .dataframe thead th {\n",
       "        text-align: right;\n",
       "    }\n",
       "</style>\n",
       "<table border=\"1\" class=\"dataframe\">\n",
       "  <thead>\n",
       "    <tr style=\"text-align: right;\">\n",
       "      <th></th>\n",
       "      <th>game_id</th>\n",
       "      <th>exp_win1</th>\n",
       "      <th>exp_win2</th>\n",
       "      <th>diff_dist</th>\n",
       "      <th>team1_log5</th>\n",
       "      <th>team1_id</th>\n",
       "      <th>team2_id</th>\n",
       "    </tr>\n",
       "  </thead>\n",
       "  <tbody>\n",
       "    <tr>\n",
       "      <th>0</th>\n",
       "      <td>2019-1181-1277</td>\n",
       "      <td>0.972195</td>\n",
       "      <td>0.967555</td>\n",
       "      <td>-392.744268</td>\n",
       "      <td>0.539696</td>\n",
       "      <td>1181</td>\n",
       "      <td>1277</td>\n",
       "    </tr>\n",
       "    <tr>\n",
       "      <th>1</th>\n",
       "      <td>2019-1181-1261</td>\n",
       "      <td>0.972195</td>\n",
       "      <td>0.903836</td>\n",
       "      <td>-1233.942817</td>\n",
       "      <td>0.788141</td>\n",
       "      <td>1181</td>\n",
       "      <td>1261</td>\n",
       "    </tr>\n",
       "    <tr>\n",
       "      <th>2</th>\n",
       "      <td>2019-1181-1439</td>\n",
       "      <td>0.972195</td>\n",
       "      <td>0.934524</td>\n",
       "      <td>13.437605</td>\n",
       "      <td>0.710126</td>\n",
       "      <td>1181</td>\n",
       "      <td>1439</td>\n",
       "    </tr>\n",
       "    <tr>\n",
       "      <th>3</th>\n",
       "      <td>2019-1181-1280</td>\n",
       "      <td>0.972195</td>\n",
       "      <td>0.902412</td>\n",
       "      <td>-860.279602</td>\n",
       "      <td>0.790848</td>\n",
       "      <td>1181</td>\n",
       "      <td>1280</td>\n",
       "    </tr>\n",
       "    <tr>\n",
       "      <th>4</th>\n",
       "      <td>2019-1181-1268</td>\n",
       "      <td>0.972195</td>\n",
       "      <td>0.901775</td>\n",
       "      <td>350.370210</td>\n",
       "      <td>0.792038</td>\n",
       "      <td>1181</td>\n",
       "      <td>1268</td>\n",
       "    </tr>\n",
       "  </tbody>\n",
       "</table>\n",
       "</div>"
      ],
      "text/plain": [
       "          game_id  exp_win1  exp_win2    diff_dist  team1_log5  team1_id  \\\n",
       "0  2019-1181-1277  0.972195  0.967555  -392.744268    0.539696      1181   \n",
       "1  2019-1181-1261  0.972195  0.903836 -1233.942817    0.788141      1181   \n",
       "2  2019-1181-1439  0.972195  0.934524    13.437605    0.710126      1181   \n",
       "3  2019-1181-1280  0.972195  0.902412  -860.279602    0.790848      1181   \n",
       "4  2019-1181-1268  0.972195  0.901775   350.370210    0.792038      1181   \n",
       "\n",
       "   team2_id  \n",
       "0      1277  \n",
       "1      1261  \n",
       "2      1439  \n",
       "3      1280  \n",
       "4      1268  "
      ]
     },
     "execution_count": 16,
     "metadata": {},
     "output_type": "execute_result"
    }
   ],
   "source": [
    "mm_2019[['game_id','exp_win1','exp_win2','diff_dist','team1_log5','team1_id','team2_id']].head()"
   ]
  },
  {
   "cell_type": "markdown",
   "metadata": {},
   "source": [
    "## Split Data"
   ]
  },
  {
   "cell_type": "code",
   "execution_count": 17,
   "metadata": {},
   "outputs": [],
   "source": [
    "mm_data.dropna(subset=['team1_log5'], inplace=True)"
   ]
  },
  {
   "cell_type": "code",
   "execution_count": 18,
   "metadata": {},
   "outputs": [],
   "source": [
    "mm_2019.dropna(subset=['team1_log5'], inplace=True)"
   ]
  },
  {
   "cell_type": "code",
   "execution_count": 19,
   "metadata": {},
   "outputs": [],
   "source": [
    "#mm_data.dropna(inplace=True)"
   ]
  },
  {
   "cell_type": "code",
   "execution_count": 20,
   "metadata": {
    "scrolled": true
   },
   "outputs": [],
   "source": [
    "mm_data['result'] = None"
   ]
  },
  {
   "cell_type": "code",
   "execution_count": 21,
   "metadata": {},
   "outputs": [
    {
     "data": {
      "text/html": [
       "<div>\n",
       "<style scoped>\n",
       "    .dataframe tbody tr th:only-of-type {\n",
       "        vertical-align: middle;\n",
       "    }\n",
       "\n",
       "    .dataframe tbody tr th {\n",
       "        vertical-align: top;\n",
       "    }\n",
       "\n",
       "    .dataframe thead th {\n",
       "        text-align: right;\n",
       "    }\n",
       "</style>\n",
       "<table border=\"1\" class=\"dataframe\">\n",
       "  <thead>\n",
       "    <tr style=\"text-align: right;\">\n",
       "      <th></th>\n",
       "      <th>team1_id</th>\n",
       "      <th>team1_score</th>\n",
       "      <th>team2_id</th>\n",
       "      <th>team2_score</th>\n",
       "      <th>result</th>\n",
       "      <th>WLoc</th>\n",
       "      <th>num_ot</th>\n",
       "      <th>team1_position</th>\n",
       "      <th>team2_position</th>\n",
       "      <th>team1_seed</th>\n",
       "      <th>...</th>\n",
       "      <th>diff_adjoe</th>\n",
       "      <th>diff_de</th>\n",
       "      <th>diff_adjde</th>\n",
       "      <th>dist1</th>\n",
       "      <th>dist2</th>\n",
       "      <th>diff_dist</th>\n",
       "      <th>exp_win1</th>\n",
       "      <th>exp_win2</th>\n",
       "      <th>team1_log5</th>\n",
       "      <th>seed_diff</th>\n",
       "    </tr>\n",
       "  </thead>\n",
       "  <tbody>\n",
       "    <tr>\n",
       "      <th>0</th>\n",
       "      <td>1373</td>\n",
       "      <td>81</td>\n",
       "      <td>1108</td>\n",
       "      <td>77</td>\n",
       "      <td>None</td>\n",
       "      <td>N</td>\n",
       "      <td>0</td>\n",
       "      <td>W16b</td>\n",
       "      <td>W16a</td>\n",
       "      <td>16</td>\n",
       "      <td>...</td>\n",
       "      <td>-1.2563</td>\n",
       "      <td>-3.2682</td>\n",
       "      <td>-6.7615</td>\n",
       "      <td>932.409301</td>\n",
       "      <td>1077.020619</td>\n",
       "      <td>-144.611318</td>\n",
       "      <td>0.468773</td>\n",
       "      <td>0.324280</td>\n",
       "      <td>0.647736</td>\n",
       "      <td>0</td>\n",
       "    </tr>\n",
       "    <tr>\n",
       "      <th>1</th>\n",
       "      <td>1104</td>\n",
       "      <td>86</td>\n",
       "      <td>1194</td>\n",
       "      <td>78</td>\n",
       "      <td>None</td>\n",
       "      <td>N</td>\n",
       "      <td>0</td>\n",
       "      <td>Y02</td>\n",
       "      <td>Y15</td>\n",
       "      <td>2</td>\n",
       "      <td>...</td>\n",
       "      <td>14.6285</td>\n",
       "      <td>-3.1870</td>\n",
       "      <td>-6.0493</td>\n",
       "      <td>970.079692</td>\n",
       "      <td>1058.900224</td>\n",
       "      <td>-88.820532</td>\n",
       "      <td>0.878465</td>\n",
       "      <td>0.411542</td>\n",
       "      <td>0.911780</td>\n",
       "      <td>-13</td>\n",
       "    </tr>\n",
       "    <tr>\n",
       "      <th>2</th>\n",
       "      <td>1112</td>\n",
       "      <td>86</td>\n",
       "      <td>1364</td>\n",
       "      <td>81</td>\n",
       "      <td>None</td>\n",
       "      <td>N</td>\n",
       "      <td>0</td>\n",
       "      <td>Z03</td>\n",
       "      <td>Z14</td>\n",
       "      <td>3</td>\n",
       "      <td>...</td>\n",
       "      <td>11.9343</td>\n",
       "      <td>7.9446</td>\n",
       "      <td>-0.7442</td>\n",
       "      <td>513.690472</td>\n",
       "      <td>1211.232761</td>\n",
       "      <td>-697.542289</td>\n",
       "      <td>0.900485</td>\n",
       "      <td>0.707177</td>\n",
       "      <td>0.789333</td>\n",
       "      <td>-11</td>\n",
       "    </tr>\n",
       "    <tr>\n",
       "      <th>3</th>\n",
       "      <td>1181</td>\n",
       "      <td>84</td>\n",
       "      <td>1457</td>\n",
       "      <td>37</td>\n",
       "      <td>None</td>\n",
       "      <td>N</td>\n",
       "      <td>0</td>\n",
       "      <td>Y01</td>\n",
       "      <td>Y16</td>\n",
       "      <td>1</td>\n",
       "      <td>...</td>\n",
       "      <td>23.2367</td>\n",
       "      <td>-4.4043</td>\n",
       "      <td>-12.2250</td>\n",
       "      <td>148.431171</td>\n",
       "      <td>340.097686</td>\n",
       "      <td>-191.666514</td>\n",
       "      <td>0.969660</td>\n",
       "      <td>0.367453</td>\n",
       "      <td>0.982148</td>\n",
       "      <td>-15</td>\n",
       "    </tr>\n",
       "    <tr>\n",
       "      <th>4</th>\n",
       "      <td>1231</td>\n",
       "      <td>75</td>\n",
       "      <td>1428</td>\n",
       "      <td>56</td>\n",
       "      <td>None</td>\n",
       "      <td>N</td>\n",
       "      <td>0</td>\n",
       "      <td>Y05</td>\n",
       "      <td>Y12</td>\n",
       "      <td>5</td>\n",
       "      <td>...</td>\n",
       "      <td>0.9905</td>\n",
       "      <td>-2.9331</td>\n",
       "      <td>-5.7235</td>\n",
       "      <td>3008.248664</td>\n",
       "      <td>859.271651</td>\n",
       "      <td>2148.977013</td>\n",
       "      <td>0.906968</td>\n",
       "      <td>0.812015</td>\n",
       "      <td>0.692962</td>\n",
       "      <td>-7</td>\n",
       "    </tr>\n",
       "  </tbody>\n",
       "</table>\n",
       "<p>5 rows × 146 columns</p>\n",
       "</div>"
      ],
      "text/plain": [
       "   team1_id  team1_score  team2_id  team2_score result WLoc  num_ot  \\\n",
       "0      1373           81      1108           77   None    N       0   \n",
       "1      1104           86      1194           78   None    N       0   \n",
       "2      1112           86      1364           81   None    N       0   \n",
       "3      1181           84      1457           37   None    N       0   \n",
       "4      1231           75      1428           56   None    N       0   \n",
       "\n",
       "  team1_position team2_position  team1_seed    ...     diff_adjoe  diff_de  \\\n",
       "0           W16b           W16a          16    ...        -1.2563  -3.2682   \n",
       "1            Y02            Y15           2    ...        14.6285  -3.1870   \n",
       "2            Z03            Z14           3    ...        11.9343   7.9446   \n",
       "3            Y01            Y16           1    ...        23.2367  -4.4043   \n",
       "4            Y05            Y12           5    ...         0.9905  -2.9331   \n",
       "\n",
       "   diff_adjde        dist1        dist2    diff_dist  exp_win1  exp_win2  \\\n",
       "0     -6.7615   932.409301  1077.020619  -144.611318  0.468773  0.324280   \n",
       "1     -6.0493   970.079692  1058.900224   -88.820532  0.878465  0.411542   \n",
       "2     -0.7442   513.690472  1211.232761  -697.542289  0.900485  0.707177   \n",
       "3    -12.2250   148.431171   340.097686  -191.666514  0.969660  0.367453   \n",
       "4     -5.7235  3008.248664   859.271651  2148.977013  0.906968  0.812015   \n",
       "\n",
       "   team1_log5 seed_diff  \n",
       "0    0.647736         0  \n",
       "1    0.911780       -13  \n",
       "2    0.789333       -11  \n",
       "3    0.982148       -15  \n",
       "4    0.692962        -7  \n",
       "\n",
       "[5 rows x 146 columns]"
      ]
     },
     "execution_count": 21,
     "metadata": {},
     "output_type": "execute_result"
    }
   ],
   "source": [
    "mm_data.head()"
   ]
  },
  {
   "cell_type": "code",
   "execution_count": 22,
   "metadata": {},
   "outputs": [],
   "source": [
    "mm_data.loc[1,'result']"
   ]
  },
  {
   "cell_type": "code",
   "execution_count": 23,
   "metadata": {
    "scrolled": true
   },
   "outputs": [],
   "source": [
    "for i in range(0,len(mm_data)):\n",
    "    if mm_data.loc[i,'team1_score'] >=  mm_data.loc[i,'team2_score']:\n",
    "        mm_data.loc[i,'result'] = 1\n",
    "    else:\n",
    "        mm_data.loc[i,'result'] = 0"
   ]
  },
  {
   "cell_type": "code",
   "execution_count": 24,
   "metadata": {},
   "outputs": [
    {
     "data": {
      "text/plain": [
       "0    1\n",
       "1    1\n",
       "2    1\n",
       "3    1\n",
       "4    1\n",
       "Name: result, dtype: int64"
      ]
     },
     "execution_count": 24,
     "metadata": {},
     "output_type": "execute_result"
    }
   ],
   "source": [
    "mm_data.loc[:,'result'].head()"
   ]
  },
  {
   "cell_type": "code",
   "execution_count": 25,
   "metadata": {
    "scrolled": true
   },
   "outputs": [],
   "source": [
    "mm_data['team1_win'] = mm_data['result']"
   ]
  },
  {
   "cell_type": "code",
   "execution_count": 26,
   "metadata": {},
   "outputs": [
    {
     "data": {
      "text/plain": [
       "(38, 147)"
      ]
     },
     "execution_count": 26,
     "metadata": {},
     "output_type": "execute_result"
    }
   ],
   "source": [
    "def shuffle(df):     \n",
    "    df = df.reindex(np.random.permutation(df.index)).copy()\n",
    "    return df.reset_index(drop=True)\n",
    "my_randoms = random.sample(range(len(mm_data)), int(len(mm_data)/2))\n",
    "mm_data[(~mm_data.index.isin(my_randoms))&(mm_data.season==2015)].shape"
   ]
  },
  {
   "cell_type": "code",
   "execution_count": 27,
   "metadata": {},
   "outputs": [],
   "source": [
    "mm_data = shuffle(mm_data)"
   ]
  },
  {
   "cell_type": "code",
   "execution_count": 28,
   "metadata": {},
   "outputs": [],
   "source": [
    "my_randoms = random.sample(range(len(mm_data)), int(len(mm_data)/2))"
   ]
  },
  {
   "cell_type": "code",
   "execution_count": 29,
   "metadata": {
    "scrolled": true
   },
   "outputs": [
    {
     "data": {
      "text/plain": [
       "(31, 147)"
      ]
     },
     "execution_count": 29,
     "metadata": {},
     "output_type": "execute_result"
    }
   ],
   "source": [
    "mm_data[(~mm_data.index.isin(my_randoms))&(mm_data.season==2015)].shape"
   ]
  },
  {
   "cell_type": "code",
   "execution_count": 30,
   "metadata": {
    "scrolled": true
   },
   "outputs": [
    {
     "data": {
      "text/plain": [
       "Index(['team1_id', 'team1_score', 'team2_id', 'team2_score', 'result', 'WLoc',\n",
       "       'num_ot', 'team1_position', 'team2_position', 'team1_seed',\n",
       "       ...\n",
       "       'diff_de', 'diff_adjde', 'dist1', 'dist2', 'diff_dist', 'exp_win1',\n",
       "       'exp_win2', 'team1_log5', 'seed_diff', 'team1_win'],\n",
       "      dtype='object', length=147)"
      ]
     },
     "execution_count": 30,
     "metadata": {},
     "output_type": "execute_result"
    }
   ],
   "source": [
    "mm_data.columns"
   ]
  },
  {
   "cell_type": "code",
   "execution_count": 31,
   "metadata": {},
   "outputs": [],
   "source": [
    "mm_data_1 = mm_data[~mm_data.index.isin(my_randoms)][['game_id','season','team1_win','exp_win1','exp_win2','team2_score','team1_score','team1_log5','team1_id','team2_id','diff_dist','seed_diff','diff_pt_school_ncaa','diff_pt_overall_ncaa','diff_pt_school_s6','diff_pt_overall_s6','diff_pt_school_ff','diff_pt_overall_ff','diff_pt_career_school_wins','diff_pt_career_school_losses','diff_pt_career_overall_wins','diff_pt_career_overall_losses','diff_pt_diff_season_wins','diff_pt_diff_season_losses','diff_pt_coach_season_wins','diff_pt_coach_season_losses','diff_fg2pct','diff_fg3pct','diff_ftpct','diff_blockpct','diff_oppfg2pct','diff_oppfg3pct','diff_oppftpct','diff_oppblockpct','diff_f3grate','diff_oppf3grate','diff_arate','diff_opparate','diff_stlrate','diff_oppstlrate','diff_tempo','diff_adjtempo','diff_oe','diff_adjoe','diff_de','diff_adjde'\n",
    "\n",
    "]].reset_index(drop=True)\n",
    "mm_data_2 = mm_data[mm_data.index.isin(my_randoms)][['game_id','season','team1_win','exp_win1','exp_win2','team2_score','team1_score','team1_log5','team1_id','team2_id','diff_dist','seed_diff','diff_pt_school_ncaa','diff_pt_overall_ncaa','diff_pt_school_s6','diff_pt_overall_s6','diff_pt_school_ff','diff_pt_overall_ff','diff_pt_career_school_wins','diff_pt_career_school_losses','diff_pt_career_overall_wins','diff_pt_career_overall_losses','diff_pt_diff_season_wins','diff_pt_diff_season_losses','diff_pt_coach_season_wins','diff_pt_coach_season_losses','diff_fg2pct','diff_fg3pct','diff_ftpct','diff_blockpct','diff_oppfg2pct','diff_oppfg3pct','diff_oppftpct','diff_oppblockpct','diff_f3grate','diff_oppf3grate','diff_arate','diff_opparate','diff_stlrate','diff_oppstlrate','diff_tempo','diff_adjtempo','diff_oe','diff_adjoe','diff_de','diff_adjde'\n",
    "]].reset_index(drop=True)"
   ]
  },
  {
   "cell_type": "code",
   "execution_count": 32,
   "metadata": {},
   "outputs": [],
   "source": [
    "mm_data_2['team1_win'] = mm_data_2['team1_win'].apply(lambda x: 1 if x==0 else 0)\n",
    "mm_data_2['diff_dist'] = mm_data_2['diff_dist']*-1\n",
    "mm_data_2['team1_log5'] = 1-mm_data_2['team1_log5']\n",
    "mm_data['seed_diff'] = mm_data['seed_diff']*-1\n",
    "### new diff\n",
    "mm_data_2['diff_pt_school_ncaa'] = mm_data_2['diff_pt_school_ncaa']*-1\n",
    "mm_data_2['diff_pt_overall_ncaa'] = mm_data_2['diff_pt_overall_ncaa']*-1\n",
    "mm_data_2['diff_pt_school_s6'] = mm_data_2['diff_pt_school_s6']*-1\n",
    "mm_data_2['diff_pt_overall_s6'] = mm_data_2['diff_pt_overall_s6']*-1\n",
    "mm_data_2['diff_pt_school_ff'] = mm_data_2['diff_pt_school_ff']*-1\n",
    "mm_data_2['diff_pt_overall_ff'] = mm_data_2['diff_pt_overall_ff']*-1\n",
    "mm_data_2['diff_pt_career_school_wins'] = mm_data_2['diff_pt_career_school_wins']*-1\n",
    "mm_data_2['diff_pt_career_school_losses'] = mm_data_2['diff_pt_career_school_losses']*-1\n",
    "mm_data_2['diff_pt_career_overall_wins'] = mm_data_2['diff_pt_career_overall_wins']*-1\n",
    "mm_data_2['diff_pt_career_overall_losses'] = mm_data_2['diff_pt_career_overall_losses']*-1\n",
    "mm_data_2['diff_pt_diff_season_wins'] = mm_data_2['diff_pt_diff_season_wins']*-1\n",
    "mm_data_2['diff_pt_diff_season_losses'] = mm_data_2['diff_pt_diff_season_losses']*-1\n",
    "mm_data_2['diff_pt_coach_season_wins'] = mm_data_2['diff_pt_coach_season_wins']*-1\n",
    "mm_data_2['diff_pt_coach_season_losses'] = mm_data_2['diff_pt_coach_season_losses']*-1\n",
    "mm_data_2['diff_fg2pct'] = mm_data_2['diff_fg2pct']*-1\n",
    "mm_data_2['diff_fg3pct'] = mm_data_2['diff_fg3pct']*-1\n",
    "mm_data_2['diff_ftpct'] = mm_data_2['diff_ftpct']*-1\n",
    "mm_data_2['diff_blockpct'] = mm_data_2['diff_blockpct']*-1\n",
    "mm_data_2['diff_oppfg2pct'] = mm_data_2['diff_oppfg2pct']*-1\n",
    "mm_data_2['diff_oppfg3pct'] = mm_data_2['diff_oppfg3pct']*-1\n",
    "mm_data_2['diff_oppftpct'] = mm_data_2['diff_oppftpct']*-1\n",
    "mm_data_2['diff_oppblockpct'] = mm_data_2['diff_oppblockpct']*-1\n",
    "mm_data_2['diff_f3grate'] = mm_data_2['diff_f3grate']*-1\n",
    "mm_data_2['diff_oppf3grate'] = mm_data_2['diff_oppf3grate']*-1\n",
    "mm_data_2['diff_arate'] = mm_data_2['diff_arate']*-1\n",
    "mm_data_2['diff_opparate'] = mm_data_2['diff_opparate']*-1\n",
    "mm_data_2['diff_stlrate'] = mm_data_2['diff_stlrate']*-1\n",
    "mm_data_2['diff_oppstlrate'] = mm_data_2['diff_oppstlrate']*-1\n",
    "mm_data_2['diff_tempo'] = mm_data_2['diff_tempo']*-1\n",
    "mm_data_2['diff_adjtempo'] = mm_data_2['diff_adjtempo']*-1\n",
    "mm_data_2['diff_oe'] = mm_data_2['diff_oe']*-1\n",
    "mm_data_2['diff_adjoe'] = mm_data_2['diff_adjoe']*-1\n",
    "mm_data_2['diff_de'] = mm_data_2['diff_de']*-1\n",
    "mm_data_2['diff_adjde'] = mm_data_2['diff_adjde']*-1\n",
    "\n",
    "\n",
    "\n",
    "mm_data_2.columns = ['game_id', 'season', 'team1_win', 'exp_win2', 'exp_win1', 'team1_score', 'team2_score','team1_log5',\n",
    " 'team2_id', 'team1_id','diff_dist','seed_diff','diff_pt_school_ncaa','diff_pt_overall_ncaa','diff_pt_school_s6','diff_pt_overall_s6','diff_pt_school_ff','diff_pt_overall_ff','diff_pt_career_school_wins','diff_pt_career_school_losses','diff_pt_career_overall_wins','diff_pt_career_overall_losses','diff_pt_diff_season_wins','diff_pt_diff_season_losses','diff_pt_coach_season_wins','diff_pt_coach_season_losses','diff_fg2pct','diff_fg3pct','diff_ftpct','diff_blockpct','diff_oppfg2pct','diff_oppfg3pct','diff_oppftpct','diff_oppblockpct','diff_f3grate','diff_oppf3grate','diff_arate','diff_opparate','diff_stlrate','diff_oppstlrate','diff_tempo','diff_adjtempo','diff_oe','diff_adjoe','diff_de','diff_adjde'\n",
    "]"
   ]
  },
  {
   "cell_type": "code",
   "execution_count": 33,
   "metadata": {
    "scrolled": true
   },
   "outputs": [],
   "source": [
    "mm_train = pd.concat([mm_data_2, mm_data_1],sort = 'Ture')"
   ]
  },
  {
   "cell_type": "code",
   "execution_count": 34,
   "metadata": {},
   "outputs": [],
   "source": [
    "# mm_train = training data\n",
    "#mm_2019 = testing data"
   ]
  },
  {
   "cell_type": "code",
   "execution_count": 35,
   "metadata": {
    "scrolled": true
   },
   "outputs": [
    {
     "name": "stdout",
     "output_type": "stream",
     "text": [
      "134\n",
      "978\n",
      "1112\n"
     ]
    }
   ],
   "source": [
    "mm_data_2017_2018 = mm_train[(mm_train['season'] == 2017)|(mm_train['season'] == 2018)].reset_index(drop=True)\n",
    "mm_data_else =  mm_train[(mm_train['season'] != 2017) & (mm_train['season'] != 2018)].reset_index(drop=True)\n",
    "print(len(mm_data_2017_2018))\n",
    "print(len(mm_data_else))\n",
    "print(len(mm_train))"
   ]
  },
  {
   "cell_type": "code",
   "execution_count": 36,
   "metadata": {},
   "outputs": [],
   "source": [
    "mm_train.to_csv(\"mm_train.csv\",index=False,sep=',')"
   ]
  },
  {
   "cell_type": "markdown",
   "metadata": {},
   "source": [
    "## Initial Check"
   ]
  },
  {
   "cell_type": "code",
   "execution_count": 37,
   "metadata": {},
   "outputs": [
    {
     "data": {
      "text/plain": [
       "team1_win\n",
       "0    0.385554\n",
       "1    0.629837\n",
       "Name: team1_log5, dtype: float64"
      ]
     },
     "execution_count": 37,
     "metadata": {},
     "output_type": "execute_result"
    }
   ],
   "source": [
    "mm_data_else.groupby('team1_win')['team1_log5'].mean()"
   ]
  },
  {
   "cell_type": "code",
   "execution_count": 38,
   "metadata": {},
   "outputs": [
    {
     "data": {
      "text/plain": [
       "team1_win\n",
       "0   -3.319920\n",
       "1   -4.064449\n",
       "Name: seed_diff, dtype: float64"
      ]
     },
     "execution_count": 38,
     "metadata": {},
     "output_type": "execute_result"
    }
   ],
   "source": [
    "mm_data_else.groupby('team1_win')['seed_diff'].mean()"
   ]
  },
  {
   "cell_type": "code",
   "execution_count": 39,
   "metadata": {},
   "outputs": [
    {
     "data": {
      "text/plain": [
       "team1_win\n",
       "0    151.865175\n",
       "1   -190.189824\n",
       "Name: diff_dist, dtype: float64"
      ]
     },
     "execution_count": 39,
     "metadata": {},
     "output_type": "execute_result"
    }
   ],
   "source": [
    "mm_data_else.groupby('team1_win')['diff_dist'].mean()"
   ]
  },
  {
   "cell_type": "markdown",
   "metadata": {},
   "source": [
    "## Train Logit with all input"
   ]
  },
  {
   "cell_type": "code",
   "execution_count": 40,
   "metadata": {},
   "outputs": [],
   "source": [
    "def plot_roc(fpr, tpr, roc_auc):\n",
    "    \"\"\"Plots the ROC curve for the win probability model along with\n",
    "    the AUC.\n",
    "    \"\"\"\n",
    "    fig, ax = plt.subplots()\n",
    "    ax.set(title='Receiver Operating Characteristic',\n",
    "           xlim=[0, 1], ylim=[0, 1], xlabel='False Positive Rate',\n",
    "           ylabel='True Positive Rate')\n",
    "    ax.plot(fpr, tpr, 'b', label='AUC = %0.2f' % roc_auc)\n",
    "    ax.plot([0, 1], [0, 1], 'k--')\n",
    "    ax.legend(loc='lower right')"
   ]
  },
  {
   "cell_type": "markdown",
   "metadata": {},
   "source": [
    "# name the data"
   ]
  },
  {
   "cell_type": "code",
   "execution_count": 41,
   "metadata": {},
   "outputs": [],
   "source": [
    "X_all = mm_train[['diff_dist','seed_diff','diff_pt_school_ncaa','diff_pt_school_s6','diff_pt_school_ff','diff_pt_career_school_losses','diff_pt_career_overall_losses','diff_pt_diff_season_wins','diff_pt_diff_season_losses','diff_pt_coach_season_wins','diff_pt_coach_season_losses','diff_fg2pct','diff_fg3pct','diff_ftpct','diff_blockpct','diff_oppfg2pct','diff_oppfg3pct','diff_oppftpct','diff_oppblockpct','diff_f3grate','diff_oppf3grate','diff_arate','diff_opparate','diff_stlrate','diff_oppstlrate','diff_adjtempo','diff_adjoe','diff_de','diff_adjde'\n",
    "]]\n",
    "y_all = mm_train['team1_win']\n",
    "X_train = mm_data_else[['diff_dist','seed_diff','diff_pt_school_ncaa','diff_pt_school_s6','diff_pt_school_ff','diff_pt_career_school_losses','diff_pt_career_overall_losses','diff_pt_diff_season_wins','diff_pt_diff_season_losses','diff_pt_coach_season_wins','diff_pt_coach_season_losses','diff_fg2pct','diff_fg3pct','diff_ftpct','diff_blockpct','diff_oppfg2pct','diff_oppfg3pct','diff_oppftpct','diff_oppblockpct','diff_f3grate','diff_oppf3grate','diff_arate','diff_opparate','diff_stlrate','diff_oppstlrate','diff_adjtempo','diff_adjoe','diff_de','diff_adjde'\n",
    "]]\n",
    "y_train = mm_data_else['team1_win']\n",
    "X_test = mm_data_2017_2018[['diff_dist','seed_diff','diff_pt_school_ncaa','diff_pt_school_s6','diff_pt_school_ff','diff_pt_career_school_losses','diff_pt_career_overall_losses','diff_pt_diff_season_wins','diff_pt_diff_season_losses','diff_pt_coach_season_wins','diff_pt_coach_season_losses','diff_fg2pct','diff_fg3pct','diff_ftpct','diff_blockpct','diff_oppfg2pct','diff_oppfg3pct','diff_oppftpct','diff_oppblockpct','diff_f3grate','diff_oppf3grate','diff_arate','diff_opparate','diff_stlrate','diff_oppstlrate','diff_adjtempo','diff_adjoe','diff_de','diff_adjde'\n",
    "]]\n",
    "y_test = mm_data_2017_2018['team1_win']"
   ]
  },
  {
   "cell_type": "code",
   "execution_count": 42,
   "metadata": {},
   "outputs": [],
   "source": [
    "#X_train = pd.concat([X_train,mm_data_else['team1_log5']],axis = 1)\n",
    "#X_test = pd.concat([X_test,mm_data_2017_2018['team1_log5']],axis = 1)"
   ]
  },
  {
   "cell_type": "markdown",
   "metadata": {},
   "source": [
    "# Scare the data"
   ]
  },
  {
   "cell_type": "code",
   "execution_count": 43,
   "metadata": {},
   "outputs": [],
   "source": [
    "# Feature Scaling\n",
    "from sklearn.preprocessing import StandardScaler\n",
    "sc = StandardScaler()\n",
    "X_train = sc.fit_transform(X_train)\n",
    "X_test = sc.transform(X_test)"
   ]
  },
  {
   "cell_type": "markdown",
   "metadata": {},
   "source": [
    "# Continue building the model"
   ]
  },
  {
   "cell_type": "markdown",
   "metadata": {},
   "source": [
    "# other machine learning models (useless from here)"
   ]
  },
  {
   "cell_type": "markdown",
   "metadata": {},
   "source": [
    "### Naive bayes"
   ]
  },
  {
   "cell_type": "code",
   "execution_count": 44,
   "metadata": {},
   "outputs": [
    {
     "data": {
      "text/plain": [
       "GaussianNB(priors=None, var_smoothing=1e-09)"
      ]
     },
     "execution_count": 44,
     "metadata": {},
     "output_type": "execute_result"
    }
   ],
   "source": [
    "#5. Fitting naive bayes to the Training set\n",
    "from sklearn.naive_bayes import GaussianNB\n",
    "classifier_nb = GaussianNB()\n",
    "classifier_nb.fit(X_train, y_train)"
   ]
  },
  {
   "cell_type": "code",
   "execution_count": 45,
   "metadata": {},
   "outputs": [
    {
     "data": {
      "text/plain": [
       "array([[42, 17],\n",
       "       [22, 53]], dtype=int64)"
      ]
     },
     "execution_count": 45,
     "metadata": {},
     "output_type": "execute_result"
    }
   ],
   "source": [
    "# Predicting the Test set results\n",
    "y_pred = classifier_nb.predict(X_test)\n",
    "\n",
    "# Making the Confusion Matrix\n",
    "from sklearn.metrics import confusion_matrix\n",
    "cm = confusion_matrix(y_test, y_pred)\n",
    "cm"
   ]
  },
  {
   "cell_type": "code",
   "execution_count": 46,
   "metadata": {},
   "outputs": [],
   "source": [
    "y_pred_pro = classifier_nb.predict_proba(X_test)[:,1]"
   ]
  },
  {
   "cell_type": "code",
   "execution_count": 47,
   "metadata": {},
   "outputs": [
    {
     "data": {
      "text/plain": [
       "0.7089552238805971"
      ]
     },
     "execution_count": 47,
     "metadata": {},
     "output_type": "execute_result"
    }
   ],
   "source": [
    "nb_accuracy = accuracy_score(y_test,y_pred)\n",
    "nb_accuracy"
   ]
  },
  {
   "cell_type": "code",
   "execution_count": 48,
   "metadata": {},
   "outputs": [
    {
     "data": {
      "text/plain": [
       "0.7310344827586207"
      ]
     },
     "execution_count": 48,
     "metadata": {},
     "output_type": "execute_result"
    }
   ],
   "source": [
    "nb_f1 = f1_score(y_test,y_pred)\n",
    "nb_f1"
   ]
  },
  {
   "cell_type": "code",
   "execution_count": 49,
   "metadata": {},
   "outputs": [
    {
     "data": {
      "text/plain": [
       "1.0443532963025095"
      ]
     },
     "execution_count": 49,
     "metadata": {},
     "output_type": "execute_result"
    }
   ],
   "source": [
    "nb_logloss = log_loss(y_test,y_pred_pro)\n",
    "nb_logloss"
   ]
  },
  {
   "cell_type": "code",
   "execution_count": 50,
   "metadata": {},
   "outputs": [
    {
     "data": {
      "image/png": "[encoded data removed]",
      "text/plain": [
       "<Figure size 432x288 with 1 Axes>"
      ]
     },
     "metadata": {
      "needs_background": "light"
     },
     "output_type": "display_data"
    }
   ],
   "source": [
    "fpr, tpr, thresholds = roc_curve(y_test,y_pred_pro)\n",
    "roc_auc = auc(fpr, tpr)\n",
    "plot_roc(fpr, tpr, roc_auc)"
   ]
  },
  {
   "cell_type": "code",
   "execution_count": 51,
   "metadata": {
    "scrolled": true
   },
   "outputs": [
    {
     "data": {
      "text/plain": [
       "0.7615819209039547"
      ]
     },
     "execution_count": 51,
     "metadata": {},
     "output_type": "execute_result"
    }
   ],
   "source": [
    "nbroc = roc_auc_score(y_test,y_pred_pro)\n",
    "nbroc"
   ]
  },
  {
   "cell_type": "code",
   "execution_count": null,
   "metadata": {},
   "outputs": [],
   "source": []
  },
  {
   "cell_type": "markdown",
   "metadata": {},
   "source": [
    "### random forest"
   ]
  },
  {
   "cell_type": "code",
   "execution_count": 52,
   "metadata": {},
   "outputs": [
    {
     "data": {
      "text/plain": [
       "RandomForestClassifier(bootstrap=True, class_weight=None, criterion='entropy',\n",
       "            max_depth=None, max_features='auto', max_leaf_nodes=None,\n",
       "            min_impurity_decrease=0.0, min_impurity_split=None,\n",
       "            min_samples_leaf=1, min_samples_split=2,\n",
       "            min_weight_fraction_leaf=0.0, n_estimators=10, n_jobs=None,\n",
       "            oob_score=False, random_state=None, verbose=0,\n",
       "            warm_start=False)"
      ]
     },
     "execution_count": 52,
     "metadata": {},
     "output_type": "execute_result"
    }
   ],
   "source": [
    "from sklearn.ensemble import RandomForestClassifier\n",
    "classifier_rf = RandomForestClassifier(n_estimators = 10, criterion = 'entropy')\n",
    "# n_estimators is the no. of the tree\n",
    "classifier_rf.fit(X_train, y_train)"
   ]
  },
  {
   "cell_type": "code",
   "execution_count": 53,
   "metadata": {
    "scrolled": true
   },
   "outputs": [
    {
     "data": {
      "text/plain": [
       "array([[47, 12],\n",
       "       [23, 52]], dtype=int64)"
      ]
     },
     "execution_count": 53,
     "metadata": {},
     "output_type": "execute_result"
    }
   ],
   "source": [
    "# Predicting the Test set results\n",
    "y_pred = classifier_rf.predict(X_test)\n",
    "\n",
    "# Making the Confusion Matrix\n",
    "from sklearn.metrics import confusion_matrix\n",
    "cm = confusion_matrix(y_test, y_pred)\n",
    "cm"
   ]
  },
  {
   "cell_type": "code",
   "execution_count": 54,
   "metadata": {},
   "outputs": [],
   "source": [
    "y_pre_pro = classifier_rf.predict_proba(X_test)[:,1]"
   ]
  },
  {
   "cell_type": "code",
   "execution_count": 55,
   "metadata": {},
   "outputs": [
    {
     "data": {
      "text/plain": [
       "0.7388059701492538"
      ]
     },
     "execution_count": 55,
     "metadata": {},
     "output_type": "execute_result"
    }
   ],
   "source": [
    "rf_accuracy = accuracy_score(y_test,y_pred)\n",
    "rf_accuracy"
   ]
  },
  {
   "cell_type": "code",
   "execution_count": 56,
   "metadata": {},
   "outputs": [
    {
     "data": {
      "text/plain": [
       "1.0443532963025095"
      ]
     },
     "execution_count": 56,
     "metadata": {},
     "output_type": "execute_result"
    }
   ],
   "source": [
    "rf_logloss = log_loss(y_test,y_pred_pro)\n",
    "rf_logloss"
   ]
  },
  {
   "cell_type": "code",
   "execution_count": 57,
   "metadata": {},
   "outputs": [
    {
     "data": {
      "text/plain": [
       "0.7482014388489209"
      ]
     },
     "execution_count": 57,
     "metadata": {},
     "output_type": "execute_result"
    }
   ],
   "source": [
    "rf_f1 = f1_score(y_test,y_pred)\n",
    "rf_f1"
   ]
  },
  {
   "cell_type": "code",
   "execution_count": 58,
   "metadata": {},
   "outputs": [
    {
     "data": {
      "image/png": "[encoded data removed]",
      "text/plain": [
       "<Figure size 432x288 with 1 Axes>"
      ]
     },
     "metadata": {
      "needs_background": "light"
     },
     "output_type": "display_data"
    }
   ],
   "source": [
    "fpr, tpr, thresholds = roc_curve(y_test,y_pred_pro)\n",
    "roc_auc = auc(fpr, tpr)\n",
    "plot_roc(fpr, tpr, roc_auc)"
   ]
  },
  {
   "cell_type": "code",
   "execution_count": 59,
   "metadata": {},
   "outputs": [
    {
     "data": {
      "text/plain": [
       "0.7615819209039547"
      ]
     },
     "execution_count": 59,
     "metadata": {},
     "output_type": "execute_result"
    }
   ],
   "source": [
    "rfroc = roc_auc_score(y_test,y_pred_pro)\n",
    "rfroc"
   ]
  },
  {
   "cell_type": "markdown",
   "metadata": {},
   "source": [
    "### xgboost"
   ]
  },
  {
   "cell_type": "code",
   "execution_count": 60,
   "metadata": {},
   "outputs": [
    {
     "data": {
      "text/plain": [
       "XGBClassifier(base_score=0.5, booster='gbtree', colsample_bylevel=1,\n",
       "       colsample_bytree=1, gamma=0, learning_rate=0.1, max_delta_step=0,\n",
       "       max_depth=3, min_child_weight=1, missing=None, n_estimators=100,\n",
       "       n_jobs=1, nthread=None, objective='binary:logistic', random_state=0,\n",
       "       reg_alpha=0, reg_lambda=1, scale_pos_weight=1, seed=None,\n",
       "       silent=True, subsample=1)"
      ]
     },
     "execution_count": 60,
     "metadata": {},
     "output_type": "execute_result"
    }
   ],
   "source": [
    "#fitting XGBoost to the Training set\n",
    "from xgboost import XGBClassifier\n",
    "classifier_xgb = XGBClassifier()\n",
    "classifier_xgb.fit(X_train,y_train)"
   ]
  },
  {
   "cell_type": "code",
   "execution_count": 61,
   "metadata": {},
   "outputs": [
    {
     "data": {
      "text/plain": [
       "array([[43, 16],\n",
       "       [12, 63]], dtype=int64)"
      ]
     },
     "execution_count": 61,
     "metadata": {},
     "output_type": "execute_result"
    }
   ],
   "source": [
    "# Predicting the Test set results\n",
    "y_pred = classifier_xgb.predict(X_test)\n",
    "\n",
    "# Making the Confusion Matrix\n",
    "from sklearn.metrics import confusion_matrix\n",
    "cm = confusion_matrix(y_test, y_pred)\n",
    "cm"
   ]
  },
  {
   "cell_type": "code",
   "execution_count": 62,
   "metadata": {},
   "outputs": [],
   "source": [
    "y_pred_pro = classifier_xgb.predict_proba(X_test)[:,1]"
   ]
  },
  {
   "cell_type": "code",
   "execution_count": 63,
   "metadata": {
    "scrolled": false
   },
   "outputs": [
    {
     "data": {
      "text/plain": [
       "0.7910447761194029"
      ]
     },
     "execution_count": 63,
     "metadata": {},
     "output_type": "execute_result"
    }
   ],
   "source": [
    "xgb_accuracy = accuracy_score(y_test,y_pred)\n",
    "xgb_accuracy"
   ]
  },
  {
   "cell_type": "code",
   "execution_count": 64,
   "metadata": {},
   "outputs": [
    {
     "data": {
      "text/plain": [
       "0.3919636699676847"
      ]
     },
     "execution_count": 64,
     "metadata": {},
     "output_type": "execute_result"
    }
   ],
   "source": [
    "xgb_logloss = log_loss(y_test,y_pred_pro)\n",
    "xgb_logloss"
   ]
  },
  {
   "cell_type": "code",
   "execution_count": 65,
   "metadata": {},
   "outputs": [
    {
     "data": {
      "text/plain": [
       "0.8181818181818181"
      ]
     },
     "execution_count": 65,
     "metadata": {},
     "output_type": "execute_result"
    }
   ],
   "source": [
    "xgb_f1 = f1_score(y_test,y_pred)\n",
    "xgb_f1"
   ]
  },
  {
   "cell_type": "code",
   "execution_count": 66,
   "metadata": {},
   "outputs": [
    {
     "data": {
      "image/png": "[encoded data removed]",
      "text/plain": [
       "<Figure size 432x288 with 1 Axes>"
      ]
     },
     "metadata": {
      "needs_background": "light"
     },
     "output_type": "display_data"
    }
   ],
   "source": [
    "fpr, tpr, thresholds = roc_curve(y_test,y_pred_pro)\n",
    "roc_auc = auc(fpr, tpr)\n",
    "plot_roc(fpr, tpr, roc_auc)"
   ]
  },
  {
   "cell_type": "code",
   "execution_count": 67,
   "metadata": {},
   "outputs": [
    {
     "data": {
      "text/plain": [
       "0.8917514124293785"
      ]
     },
     "execution_count": 67,
     "metadata": {},
     "output_type": "execute_result"
    }
   ],
   "source": [
    "xgbroc = roc_auc_score(y_test,y_pred_pro)\n",
    "xgbroc"
   ]
  },
  {
   "cell_type": "markdown",
   "metadata": {},
   "source": [
    "### linear svm"
   ]
  },
  {
   "cell_type": "code",
   "execution_count": 68,
   "metadata": {},
   "outputs": [
    {
     "data": {
      "text/plain": [
       "LinearSVC(C=1.0, class_weight=None, dual=True, fit_intercept=True,\n",
       "     intercept_scaling=1, loss='squared_hinge', max_iter=1000,\n",
       "     multi_class='ovr', penalty='l2', random_state=None, tol=0.0001,\n",
       "     verbose=0)"
      ]
     },
     "execution_count": 68,
     "metadata": {},
     "output_type": "execute_result"
    }
   ],
   "source": [
    "from sklearn.svm import SVC, NuSVC, LinearSVC\n",
    "classifier_lsvm = LinearSVC()\n",
    "classifier_lsvm.fit(X_train,y_train)"
   ]
  },
  {
   "cell_type": "code",
   "execution_count": 69,
   "metadata": {},
   "outputs": [
    {
     "data": {
      "text/plain": [
       "array([[40, 19],\n",
       "       [24, 51]], dtype=int64)"
      ]
     },
     "execution_count": 69,
     "metadata": {},
     "output_type": "execute_result"
    }
   ],
   "source": [
    "y_pred = classifier_lsvm.predict(X_test)\n",
    "cm = confusion_matrix(y_test, y_pred)\n",
    "cm"
   ]
  },
  {
   "cell_type": "code",
   "execution_count": 70,
   "metadata": {},
   "outputs": [
    {
     "data": {
      "text/plain": [
       "0.6791044776119403"
      ]
     },
     "execution_count": 70,
     "metadata": {},
     "output_type": "execute_result"
    }
   ],
   "source": [
    "svm_accuracy = accuracy_score(y_test,y_pred)\n",
    "svm_accuracy"
   ]
  },
  {
   "cell_type": "code",
   "execution_count": 71,
   "metadata": {},
   "outputs": [
    {
     "data": {
      "text/plain": [
       "0.3919636699676847"
      ]
     },
     "execution_count": 71,
     "metadata": {},
     "output_type": "execute_result"
    }
   ],
   "source": [
    "svm_logloss = log_loss(y_test,y_pred_pro)\n",
    "svm_logloss"
   ]
  },
  {
   "cell_type": "code",
   "execution_count": 72,
   "metadata": {},
   "outputs": [
    {
     "data": {
      "text/plain": [
       "0.7034482758620689"
      ]
     },
     "execution_count": 72,
     "metadata": {},
     "output_type": "execute_result"
    }
   ],
   "source": [
    "svm_f1 = f1_score(y_test,y_pred)\n",
    "svm_f1"
   ]
  },
  {
   "cell_type": "code",
   "execution_count": 73,
   "metadata": {},
   "outputs": [
    {
     "data": {
      "image/png": "[encoded data removed]",
      "text/plain": [
       "<Figure size 432x288 with 1 Axes>"
      ]
     },
     "metadata": {
      "needs_background": "light"
     },
     "output_type": "display_data"
    }
   ],
   "source": [
    "fpr, tpr, thresholds = roc_curve(y_test,y_pred_pro)\n",
    "roc_auc = auc(fpr, tpr)\n",
    "plot_roc(fpr, tpr, roc_auc)"
   ]
  },
  {
   "cell_type": "code",
   "execution_count": 74,
   "metadata": {},
   "outputs": [
    {
     "data": {
      "text/plain": [
       "0.8917514124293785"
      ]
     },
     "execution_count": 74,
     "metadata": {},
     "output_type": "execute_result"
    }
   ],
   "source": [
    "svmroc = roc_auc_score(y_test,y_pred_pro)\n",
    "svmroc"
   ]
  },
  {
   "cell_type": "markdown",
   "metadata": {},
   "source": [
    "# logistic regression"
   ]
  },
  {
   "cell_type": "code",
   "execution_count": 75,
   "metadata": {},
   "outputs": [
    {
     "data": {
      "text/plain": [
       "LogisticRegression(C=1.0, class_weight=None, dual=False, fit_intercept=True,\n",
       "          intercept_scaling=1, max_iter=100, multi_class='warn',\n",
       "          n_jobs=None, penalty='l2', random_state=None, solver='warn',\n",
       "          tol=0.0001, verbose=0, warm_start=False)"
      ]
     },
     "execution_count": 75,
     "metadata": {},
     "output_type": "execute_result"
    }
   ],
   "source": [
    "classifier_lr =  LogisticRegression()\n",
    "classifier_lr.fit(X_train, y_train)"
   ]
  },
  {
   "cell_type": "code",
   "execution_count": 76,
   "metadata": {
    "scrolled": false
   },
   "outputs": [
    {
     "data": {
      "text/plain": [
       "array([[39, 20],\n",
       "       [25, 50]], dtype=int64)"
      ]
     },
     "execution_count": 76,
     "metadata": {},
     "output_type": "execute_result"
    }
   ],
   "source": [
    "y_pred = classifier_lr.predict(X_test)\n",
    "cm = confusion_matrix(y_test,y_pred)\n",
    "cm"
   ]
  },
  {
   "cell_type": "code",
   "execution_count": 77,
   "metadata": {},
   "outputs": [
    {
     "data": {
      "text/plain": [
       "0.664179104477612"
      ]
     },
     "execution_count": 77,
     "metadata": {},
     "output_type": "execute_result"
    }
   ],
   "source": [
    "lr_accuracy = accuracy_score(y_test,y_pred)\n",
    "lr_accuracy"
   ]
  },
  {
   "cell_type": "code",
   "execution_count": 78,
   "metadata": {},
   "outputs": [
    {
     "data": {
      "text/plain": [
       "0.3919636699676847"
      ]
     },
     "execution_count": 78,
     "metadata": {},
     "output_type": "execute_result"
    }
   ],
   "source": [
    "lr_logloss = log_loss(y_test,y_pred_pro)\n",
    "lr_logloss"
   ]
  },
  {
   "cell_type": "code",
   "execution_count": 79,
   "metadata": {},
   "outputs": [
    {
     "data": {
      "text/plain": [
       "0.689655172413793"
      ]
     },
     "execution_count": 79,
     "metadata": {},
     "output_type": "execute_result"
    }
   ],
   "source": [
    "lr_f1 = f1_score(y_test,y_pred)\n",
    "lr_f1"
   ]
  },
  {
   "cell_type": "code",
   "execution_count": 80,
   "metadata": {},
   "outputs": [
    {
     "data": {
      "image/png": "[encoded data removed]",
      "text/plain": [
       "<Figure size 432x288 with 1 Axes>"
      ]
     },
     "metadata": {
      "needs_background": "light"
     },
     "output_type": "display_data"
    }
   ],
   "source": [
    "fpr, tpr, thresholds = roc_curve(y_test,y_pred_pro)\n",
    "roc_auc = auc(fpr, tpr)\n",
    "plot_roc(fpr, tpr, roc_auc)"
   ]
  },
  {
   "cell_type": "code",
   "execution_count": 81,
   "metadata": {},
   "outputs": [
    {
     "data": {
      "text/plain": [
       "0.8917514124293785"
      ]
     },
     "execution_count": 81,
     "metadata": {},
     "output_type": "execute_result"
    }
   ],
   "source": [
    "lrroc = roc_auc_score(y_test,y_pred_pro)\n",
    "lrroc"
   ]
  },
  {
   "cell_type": "markdown",
   "metadata": {},
   "source": [
    "# real ensenmble"
   ]
  },
  {
   "cell_type": "code",
   "execution_count": 82,
   "metadata": {},
   "outputs": [],
   "source": [
    "def lr(X_train, y_train, X_test):\n",
    "\n",
    "    lr =  LogisticRegression()\n",
    "    lr.fit(X_train, y_train)\n",
    "    y_pred = lr.predict_proba(X_test)\n",
    "    \n",
    "    return y_pred\n",
    "\n",
    "def nb(X_train, y_train, X_test):\n",
    "    \n",
    "    nb = GaussianNB()\n",
    "    nb.fit(X_train,y_train)\n",
    "    y_pred = nb.predict_proba(X_test)\n",
    "    \n",
    "    return y_pred\n",
    "\n",
    "def rf(X_train, y_train, X_test):\n",
    "    \n",
    "    rf =  RandomForestClassifier()\n",
    "    rf.fit(X_train,y_train)\n",
    "    y_pred = rf.predict_proba(X_test)\n",
    "    \n",
    "    return y_pred\n",
    "\n",
    "def sv(X_train, y_train, X_test):\n",
    "    \n",
    "    sv =  SVC(probability = True)\n",
    "    sv.fit(X_train,y_train)\n",
    "    y_pred = sv.predict_proba(X_test)\n",
    "    \n",
    "    return y_pred\n",
    "\n",
    "def xgb(X_train, y_train, X_test):\n",
    "    \n",
    "    xgb = XGBClassifier()\n",
    "    xgb.fit(X_train,y_train)\n",
    "    y_pred = xgb.predict_proba(X_test)\n",
    "    \n",
    "    return y_pred"
   ]
  },
  {
   "cell_type": "code",
   "execution_count": 83,
   "metadata": {},
   "outputs": [],
   "source": [
    "def ensemble(X_train, y_train, X_test):\n",
    "    lr_y = lr(X_train, y_train, X_test)\n",
    "    sv_y = sv(X_train, y_train, X_test)\n",
    "    rf_y = rf(X_train, y_train, X_test)\n",
    "    nb_y = nb(X_train, y_train, X_test)\n",
    "    xgb_y = xgb(X_train, y_train, X_test)\n",
    "    \n",
    "    final_y = []\n",
    "    \n",
    "    for i in range(len(X_test)):\n",
    "        final_y.append((lr_y[i][1]+ nb_y[i][1]+rf_y[i][1]+ sv_y[i][1]+ xgb_y[i][1])/5)\n",
    "    return final_y"
   ]
  },
  {
   "cell_type": "code",
   "execution_count": 84,
   "metadata": {},
   "outputs": [],
   "source": [
    "ensemble_model = ensemble(X_train, y_train, X_test)"
   ]
  },
  {
   "cell_type": "code",
   "execution_count": 85,
   "metadata": {},
   "outputs": [
    {
     "data": {
      "text/plain": [
       "[0.0777079602242761,\n",
       " 0.30990115252232003,\n",
       " 0.057300909625407084,\n",
       " 0.2757501968693937,\n",
       " 0.5740257630495592,\n",
       " 0.6396717349155682,\n",
       " 0.44828513399721814,\n",
       " 0.029561294791862692,\n",
       " 0.08931094464924431,\n",
       " 0.11847999765904578,\n",
       " 0.06844517356141219,\n",
       " 0.6151530719660023,\n",
       " 0.050868659295875474,\n",
       " 0.2511408353226152,\n",
       " 0.006368384287249869,\n",
       " 0.38282600801664957,\n",
       " 0.38253253825220324,\n",
       " 0.18120790461339642,\n",
       " 0.49072706076276795,\n",
       " 0.36456738766600305,\n",
       " 0.1207213446196193,\n",
       " 0.5654088059787107,\n",
       " 0.7417648238650881,\n",
       " 0.42096273980963306,\n",
       " 0.5923767390483994,\n",
       " 0.6880623400859799,\n",
       " 0.5742871439835111,\n",
       " 0.23883313026535102,\n",
       " 0.3524843143393162,\n",
       " 0.11742145342407544,\n",
       " 0.1477014966326167,\n",
       " 0.36165730168260535,\n",
       " 0.09509577209829996,\n",
       " 0.40931900026679074,\n",
       " 0.40341668016346793,\n",
       " 0.4961240588095775,\n",
       " 0.14858886649331646,\n",
       " 0.07241640814152059,\n",
       " 0.685680518225183,\n",
       " 0.06664599531433468,\n",
       " 0.5168224752364281,\n",
       " 0.48273422558528833,\n",
       " 0.17937477592854628,\n",
       " 0.15479859938632234,\n",
       " 0.15701674300984295,\n",
       " 0.2513423541830947,\n",
       " 0.3293611410283919,\n",
       " 0.09562287325352721,\n",
       " 0.5215362592182512,\n",
       " 0.7181204856930528,\n",
       " 0.5241083491374348,\n",
       " 0.09703212820118681,\n",
       " 0.2736811201979966,\n",
       " 0.4591001554776323,\n",
       " 0.09281078322661197,\n",
       " 0.20094887606134346,\n",
       " 0.4718829584825814,\n",
       " 0.40344524737342835,\n",
       " 0.5021741658309014,\n",
       " 0.26660289787614644,\n",
       " 0.7745829572038242,\n",
       " 0.7519845649895247,\n",
       " 0.8324636198226749,\n",
       " 0.9525291068254529,\n",
       " 0.6196559160365899,\n",
       " 0.7624616105422788,\n",
       " 0.3126726251836171,\n",
       " 0.8072612939570873,\n",
       " 0.5454683786843054,\n",
       " 0.813622767381004,\n",
       " 0.8514058175420874,\n",
       " 0.9621971661489923,\n",
       " 0.8059799351728861,\n",
       " 0.5464376068311456,\n",
       " 0.9228317602528794,\n",
       " 0.377412531870838,\n",
       " 0.6323039043383784,\n",
       " 0.4271884189237518,\n",
       " 0.9260896014898601,\n",
       " 0.6080552662600645,\n",
       " 0.5952937516981668,\n",
       " 0.6140097193456395,\n",
       " 0.34120800704019816,\n",
       " 0.7297854332816861,\n",
       " 0.9704592767996493,\n",
       " 0.5841160711879996,\n",
       " 0.4557954003735123,\n",
       " 0.6423064919959615,\n",
       " 0.8428223977424825,\n",
       " 0.9850412019164414,\n",
       " 0.5273135200888572,\n",
       " 0.5358357465779006,\n",
       " 0.4474203869788732,\n",
       " 0.8157128725580826,\n",
       " 0.3870164902059833,\n",
       " 0.9646135501723752,\n",
       " 0.28874528450101894,\n",
       " 0.9728660847795864,\n",
       " 0.28643114835443095,\n",
       " 0.9698119979772988,\n",
       " 0.9010276554259613,\n",
       " 0.9058801919460958,\n",
       " 0.526949681693546,\n",
       " 0.364713489459748,\n",
       " 0.3775330808785546,\n",
       " 0.9218131164169368,\n",
       " 0.5467524624690625,\n",
       " 0.9706928925985181,\n",
       " 0.8247557466241962,\n",
       " 0.8797915956622029,\n",
       " 0.31029986899956186,\n",
       " 0.5908320670374843,\n",
       " 0.938428102031715,\n",
       " 0.7119092233827804,\n",
       " 0.885422312761834,\n",
       " 0.25876114653524335,\n",
       " 0.3917568334445439,\n",
       " 0.9604005175452531,\n",
       " 0.7771005279236162,\n",
       " 0.9134166263447273,\n",
       " 0.9590556625357515,\n",
       " 0.9441348987176307,\n",
       " 0.9096780326102859,\n",
       " 0.5808638908217224,\n",
       " 0.3250561826380841,\n",
       " 0.7703623464436313,\n",
       " 0.9258057929228702,\n",
       " 0.707407027649233,\n",
       " 0.632792756223711,\n",
       " 0.6896719028441316,\n",
       " 0.41333941779281835,\n",
       " 0.9326281744127414,\n",
       " 0.8724559995365618,\n",
       " 0.3186857414580562]"
      ]
     },
     "execution_count": 85,
     "metadata": {},
     "output_type": "execute_result"
    }
   ],
   "source": [
    "ensemble_model"
   ]
  },
  {
   "cell_type": "code",
   "execution_count": 86,
   "metadata": {},
   "outputs": [
    {
     "data": {
      "text/plain": [
       "0.4473042004732165"
      ]
     },
     "execution_count": 86,
     "metadata": {},
     "output_type": "execute_result"
    }
   ],
   "source": [
    "log_loss(y_test,ensemble_model)"
   ]
  },
  {
   "cell_type": "code",
   "execution_count": 87,
   "metadata": {},
   "outputs": [],
   "source": [
    "ebinary = []\n",
    "for i in ensemble_model:\n",
    "    if i>0.5:\n",
    "        ebinary.append(1)\n",
    "    else:\n",
    "        ebinary.append(0)"
   ]
  },
  {
   "cell_type": "code",
   "execution_count": 88,
   "metadata": {},
   "outputs": [
    {
     "data": {
      "text/plain": [
       "0.7611940298507462"
      ]
     },
     "execution_count": 88,
     "metadata": {},
     "output_type": "execute_result"
    }
   ],
   "source": [
    "en_accuracy = accuracy_score(y_test,ebinary)\n",
    "en_accuracy"
   ]
  },
  {
   "cell_type": "code",
   "execution_count": 89,
   "metadata": {},
   "outputs": [],
   "source": [
    "#cross validation\n",
    "from sklearn.model_selection import cross_val_score\n",
    "accuracies = cross_val_score(estimator = classifier_lr, X = X_all,\n",
    "                            y = y_all, cv = 8)"
   ]
  },
  {
   "cell_type": "code",
   "execution_count": 90,
   "metadata": {},
   "outputs": [
    {
     "data": {
      "text/plain": [
       "0.7203545548654244"
      ]
     },
     "execution_count": 90,
     "metadata": {},
     "output_type": "execute_result"
    }
   ],
   "source": [
    "accuracies.mean()"
   ]
  },
  {
   "cell_type": "code",
   "execution_count": 91,
   "metadata": {},
   "outputs": [
    {
     "data": {
      "text/plain": [
       "0.028362780548410835"
      ]
     },
     "execution_count": 91,
     "metadata": {},
     "output_type": "execute_result"
    }
   ],
   "source": [
    "accuracies.std()"
   ]
  },
  {
   "cell_type": "code",
   "execution_count": 92,
   "metadata": {},
   "outputs": [
    {
     "data": {
      "text/plain": [
       "0.7808219178082192"
      ]
     },
     "execution_count": 92,
     "metadata": {},
     "output_type": "execute_result"
    }
   ],
   "source": [
    "en_f1 = f1_score(y_test,ebinary)\n",
    "en_f1"
   ]
  },
  {
   "cell_type": "code",
   "execution_count": 93,
   "metadata": {},
   "outputs": [],
   "source": [
    "plt.style.use('ggplot')"
   ]
  },
  {
   "cell_type": "code",
   "execution_count": 105,
   "metadata": {},
   "outputs": [
    {
     "data": {
      "image/png": "[encoded data removed]",
      "text/plain": [
       "<Figure size 432x288 with 1 Axes>"
      ]
     },
     "metadata": {},
     "output_type": "display_data"
    },
    {
     "data": {
      "text/plain": [
       "<Figure size 432x288 with 0 Axes>"
      ]
     },
     "metadata": {},
     "output_type": "display_data"
    }
   ],
   "source": [
    "fpr, tpr, thresholds = roc_curve(y_test,ebinary)\n",
    "roc_auc = auc(fpr, tpr)\n",
    "# plot_roc(fpr, tpr, roc_auc)\n",
    "# plt.show()\n",
    "fig = plt.figure(1)\n",
    "axs0 = plt.subplot(221, facecolor = '#FFDAB9')\n",
    "axs0.plot(fpr, tpr)\n",
    "plt.show()\n",
    "plt.savefig(\"roc ensemble.jpg\")"
   ]
  },
  {
   "cell_type": "code",
   "execution_count": null,
   "metadata": {},
   "outputs": [],
   "source": [
    "enroc = roc_auc_score(y_test,ebinary)\n",
    "enroc"
   ]
  },
  {
   "cell_type": "markdown",
   "metadata": {},
   "source": [
    "# for 2019 data"
   ]
  },
  {
   "cell_type": "code",
   "execution_count": null,
   "metadata": {},
   "outputs": [],
   "source": [
    "X_train = mm_train[['diff_dist','seed_diff','diff_pt_school_ncaa','diff_pt_school_s6','diff_pt_school_ff','diff_pt_career_school_losses','diff_pt_career_overall_losses','diff_pt_diff_season_wins','diff_pt_diff_season_losses','diff_pt_coach_season_wins','diff_pt_coach_season_losses','diff_fg2pct','diff_fg3pct','diff_ftpct','diff_blockpct','diff_oppfg2pct','diff_oppfg3pct','diff_oppftpct','diff_oppblockpct','diff_f3grate','diff_oppf3grate','diff_arate','diff_opparate','diff_stlrate','diff_oppstlrate','diff_adjtempo','diff_adjoe','diff_de','diff_adjde'\n",
    "]]\n",
    "y_train = mm_train['team1_win']\n",
    "X_test = mm_2019[['diff_dist','seed_diff','diff_pt_school_ncaa','diff_pt_school_s6','diff_pt_school_ff','diff_pt_career_school_losses','diff_pt_career_overall_losses','diff_pt_diff_season_wins','diff_pt_diff_season_losses','diff_pt_coach_season_wins','diff_pt_coach_season_losses','diff_fg2pct','diff_fg3pct','diff_ftpct','diff_blockpct','diff_oppfg2pct','diff_oppfg3pct','diff_oppftpct','diff_oppblockpct','diff_f3grate','diff_oppf3grate','diff_arate','diff_opparate','diff_stlrate','diff_oppstlrate','diff_adjtempo','diff_adjoe','diff_de','diff_adjde'\n",
    "]]"
   ]
  },
  {
   "cell_type": "code",
   "execution_count": null,
   "metadata": {
    "scrolled": true
   },
   "outputs": [],
   "source": [
    "ensemble_model = ensemble(X_train, y_train, X_test)"
   ]
  },
  {
   "cell_type": "code",
   "execution_count": null,
   "metadata": {},
   "outputs": [],
   "source": [
    "ensemble_model"
   ]
  },
  {
   "cell_type": "code",
   "execution_count": null,
   "metadata": {},
   "outputs": [],
   "source": [
    "len(ensemble_model)"
   ]
  },
  {
   "cell_type": "code",
   "execution_count": null,
   "metadata": {},
   "outputs": [],
   "source": [
    "probability=pd.DataFrame()\n",
    "newdf = mm_2019[['season','team1_id','team2_id']]\n",
    "probability['id'] = mm_2019['season'].map(str)+'-'+mm_2019['team1_id'].map(str)+'-'+mm_2019['team2_id'].map(str)\n",
    "probability['probability'] = pd.DataFrame(ensemble_model)\n",
    "probability = probability.set_index('id')\n",
    "probability_sorted = probability.sort_values(by ='id')\n",
    "probability_sorted.head()"
   ]
  },
  {
   "cell_type": "code",
   "execution_count": null,
   "metadata": {},
   "outputs": [],
   "source": [
    "probability_sorted.to_csv('probability.csv')"
   ]
  },
  {
   "cell_type": "markdown",
   "metadata": {},
   "source": [
    "# visualization"
   ]
  },
  {
   "cell_type": "code",
   "execution_count": null,
   "metadata": {},
   "outputs": [],
   "source": [
    "name_list = ['lr','nb','svm','rf','xgb']\n",
    "accuracy_list = [lr_accuracy,nb_accuracy,svm_accuracy,rf_accuracy,xgb_accuracy]\n",
    "f1_list = [lr_f1,nb_f1,svm_f1,rf_f1,xgb_f1]\n",
    "roc_list = [lrroc,nbroc,svmroc,rfroc,xgbroc]"
   ]
  },
  {
   "cell_type": "code",
   "execution_count": null,
   "metadata": {},
   "outputs": [],
   "source": [
    "n = 5\n",
    "fig, ax = plt.subplots()  \n",
    "index = np.arange(n)\n",
    "bar_width = 0.35  \n",
    "opacity = 0.4  \n",
    "rects1 = plt.bar(index, accuracy_list, bar_width,alpha=opacity, color='b')  \n",
    "plt.xlabel('model')  \n",
    "plt.ylabel('Accuracy')  \n",
    "plt.title('Accuracy by model')  \n",
    "plt.xticks(index, name_list)\n",
    "for a,b in zip(index,accuracy_list):\n",
    "    plt.text(a, b+0.05, '%.3f' % b, ha='center', va= 'bottom',fontsize=7)\n",
    "plt.ylim(0,1)\n",
    "plt.tight_layout()\n",
    "plt.savefig(\"accuracy.jpg\")\n",
    "plt.show()"
   ]
  },
  {
   "cell_type": "code",
   "execution_count": null,
   "metadata": {
    "scrolled": true
   },
   "outputs": [],
   "source": [
    "n = 5\n",
    "fig, ax = plt.subplots()  \n",
    "index = np.arange(n)\n",
    "bar_width = 0.35  \n",
    "opacity = 0.4  \n",
    "rects1 = plt.bar(index, f1_list, bar_width,alpha=opacity, color='b')  \n",
    "plt.xlabel('model')  \n",
    "plt.ylabel('F1 Score')  \n",
    "plt.title('F1 Score by model')  \n",
    "plt.xticks(index, name_list)\n",
    "for a,b in zip(index,f1_list):\n",
    "    plt.text(a, b+0.05, '%.3f' % b, ha='center', va= 'bottom',fontsize=7)\n",
    "plt.ylim(0,1)\n",
    "plt.tight_layout()\n",
    "plt.savefig(\"f1.jpg\")\n",
    "plt.show()"
   ]
  },
  {
   "cell_type": "code",
   "execution_count": null,
   "metadata": {},
   "outputs": [],
   "source": [
    "n = 5\n",
    "fig, ax = plt.subplots()  \n",
    "index = np.arange(n)\n",
    "bar_width = 0.35  \n",
    "opacity = 0.4  \n",
    "rects1 = plt.bar(index, roc_list, bar_width,alpha=opacity, color='b')  \n",
    "plt.xlabel('model')  \n",
    "plt.ylabel('ROC')  \n",
    "plt.title('ROC by model')  \n",
    "plt.xticks(index, name_list)\n",
    "for a,b in zip(index,roc_list):\n",
    "    plt.text(a, b+0.05, '%.3f' % b, ha='center', va= 'bottom',fontsize=7)\n",
    "plt.ylim(0,1)\n",
    "plt.tight_layout()\n",
    "plt.savefig(\"roc.jpg\")\n",
    "plt.show()"
   ]
  }
 ],
 "metadata": {
  "kernelspec": {
   "display_name": "Python 3",
   "language": "python",
   "name": "python3"
  },
  "language_info": {
   "codemirror_mode": {
    "name": "ipython",
    "version": 3
   },
   "file_extension": ".py",
   "mimetype": "text/x-python",
   "name": "python",
   "nbconvert_exporter": "python",
   "pygments_lexer": "ipython3",
   "version": "3.7.1"
  }
 },
 "nbformat": 4,
 "nbformat_minor": 1
}
